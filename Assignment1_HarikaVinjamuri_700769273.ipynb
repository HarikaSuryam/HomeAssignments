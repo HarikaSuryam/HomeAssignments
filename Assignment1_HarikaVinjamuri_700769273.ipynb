{
  "nbformat": 4,
  "nbformat_minor": 0,
  "metadata": {
    "colab": {
      "provenance": []
    },
    "kernelspec": {
      "name": "python3",
      "display_name": "Python 3"
    },
    "language_info": {
      "name": "python"
    }
  },
  "cells": [
    {
      "cell_type": "markdown",
      "source": [
        "**Home Assignment - 1**\n",
        "\n",
        "Student Name - Harika Vinjamuri\n",
        "\n",
        "Student ID   - 700769273"
      ],
      "metadata": {
        "id": "ufdEkNjf_Fgi"
      }
    },
    {
      "cell_type": "code",
      "execution_count": 5,
      "metadata": {
        "colab": {
          "base_uri": "https://localhost:8080/"
        },
        "id": "-dzn_KdwvIPC",
        "outputId": "4d5afb15-7453-478c-882a-06b4c7b67505"
      },
      "outputs": [
        {
          "output_type": "stream",
          "name": "stdout",
          "text": [
            "Shape of Defined Constant: [4 6]\n",
            "Rank of Defined Constant: 2\n",
            "Reshape performed...\n",
            "Shape of Constant after Reshape: [2 3 4]\n",
            "Rank of Constant after Reshape: 3\n",
            "Transpose performed...\n",
            "Shape of Constant after Transpose: [4 3 2]\n",
            "Rank of Constant after Transpose: 3\n",
            "Broadcasted Output: tf.Tensor(\n",
            "[[2 2 5 4]\n",
            " [1 0 2 0]\n",
            " [5 0 4 0]\n",
            " [1 0 2 0]\n",
            " [2 1 3 1]], shape=(5, 4), dtype=int32)\n",
            "Broadcasted Output: tf.Tensor(\n",
            "[[2 1 3 1]\n",
            " [3 2 4 2]\n",
            " [4 3 5 3]\n",
            " [5 4 6 4]], shape=(4, 4), dtype=int32)\n"
          ]
        }
      ],
      "source": [
        "import tensorflow as tf\n",
        "\n",
        "# 1. Tensor Manipulations & Reshaping\n",
        "\n",
        "# Define a random tensor constant\n",
        "random_constant = tf.constant([[1,2,3,4,5,6],\n",
        "                               [1,1,2,2,3,3],\n",
        "                               [6,5,4,3,2,1],\n",
        "                               [0,0,0,0,0,0]]\n",
        "                              )\n",
        "print(\"Shape of Defined Constant:\", tf.shape(random_constant).numpy())\n",
        "print(\"Rank of Defined Constant:\", tf.rank(random_constant).numpy())\n",
        "\n",
        "# Reshape the tensor constant to (2,3,4)\n",
        "print(\"Reshape performed...\")\n",
        "reshape_constant = tf.reshape(random_constant,(2,3,4))\n",
        "print(\"Shape of Constant after Reshape:\", tf.shape(reshape_constant).numpy())\n",
        "print(\"Rank of Constant after Reshape:\", tf.rank(reshape_constant).numpy())\n",
        "\n",
        "# Transpose the tensor constant\n",
        "print(\"Transpose performed...\")\n",
        "transpose_constant = tf.transpose(reshape_constant)\n",
        "print(\"Shape of Constant after Transpose:\", tf.shape(transpose_constant).numpy())\n",
        "print(\"Rank of Constant after Transpose:\", tf.rank(transpose_constant).numpy())\n",
        "\n",
        "# Broadcasting Tensor\n",
        "st = tf.constant([1,0,2,0])\n",
        "b1t = tf.constant([[1,2,3,4],[0,0,0,0],[4,0,2,0],[0,0,0,0],[1,1,1,1]])\n",
        "b2t = tf.constant([[1],[2],[3],[4]])\n",
        "\n",
        "print(\"Broadcasted Output:\", st+b1t)\n",
        "print(\"Broadcasted Output:\", st+b2t)\n",
        "\n",
        "\n",
        "# Broadcasting is a technique used in TensorFlow (and NumPy) that allows operations\n",
        "# on tensors of different shapes by automatically expanding their dimensions so\n",
        "# that they become compatible.\n",
        "# For broadcasting to work, TensorFlow follows specific rules:\n",
        "# --> Align dimensions from the right.\n",
        "# --> Dimensions must be equal, or one of them must be 1.\n",
        "# --> TensorFlow will expand dimensions with size 1 to match the other tensor’s size in that axis."
      ]
    },
    {
      "cell_type": "code",
      "execution_count": null,
      "metadata": {
        "colab": {
          "base_uri": "https://localhost:8080/",
          "height": 561
        },
        "outputId": "879bc803-5df9-4b0b-f28f-f489df537036",
        "id": "5ReQ9LTvHdP-"
      },
      "outputs": [
        {
          "output_type": "stream",
          "name": "stdout",
          "text": [
            "Predicted Values 1...\n",
            "Mean Square Error:  0.032500006\n",
            "Categorical Cross Entropy:  4.3862624\n",
            "Predicted Values 2...\n",
            "Mean Square Error:  0.20750001\n",
            "Categorical Cross Entropy:  4.601615\n"
          ]
        },
        {
          "output_type": "display_data",
          "data": {
            "text/plain": [
              "<Figure size 640x480 with 1 Axes>"
            ],
            "image/png": "[encoded data removed]"
          },
          "metadata": {}
        }
      ],
      "source": [
        "# 2. 2.\tLoss Functions & Hyperparameter Tuning\n",
        "import tensorflow as tf\n",
        "import matplotlib.pyplot as plt\n",
        "import numpy as np\n",
        "\n",
        "# Actual y values\n",
        "y_true = tf.constant([1.0,0.0,1.0,2.0])\n",
        "\n",
        "# Predicted y values\n",
        "y_predict_1 = tf.constant([0.9,0.2,0.8,1.8])\n",
        "\n",
        "# Defining Functions for mean_square_error and categorical_cross_entropy\n",
        "mse_fn = tf.keras.losses.MeanSquaredError()\n",
        "cce_fn = tf.keras.losses.CategoricalCrossentropy()\n",
        "\n",
        "mse_1 = mse_fn(y_true, y_predict_1).numpy()\n",
        "cce_1 = cce_fn(y_true, y_predict_1).numpy()\n",
        "\n",
        "# Predicted 1 Values Loss information\n",
        "print(\"Predicted Values 1...\")\n",
        "print(\"Mean Square Error: \", mse_1)\n",
        "print(\"Categorical Cross Entropy: \",cce_1)\n",
        "\n",
        "y_predict_2 = tf.constant([0.6,0.3,0.7,1.3])\n",
        "mse_2 = mse_fn(y_true, y_predict_2).numpy()\n",
        "cce_2 = cce_fn(y_true, y_predict_2).numpy()\n",
        "\n",
        "# Predicted 2 Values Loss information\n",
        "print(\"Predicted Values 2...\")\n",
        "print(\"Mean Square Error: \", mse_2)\n",
        "print(\"Categorical Cross Entropy: \",cce_2)\n",
        "\n",
        "\n",
        "# Bar plot for comparing the loss values\n",
        "labels = ['MSE', 'Cross-Entropy']\n",
        "losses_1 = [mse_1, cce_1]\n",
        "losses_2 = [mse_2, cce_2]\n",
        "\n",
        "x = np.arange(len(labels))\n",
        "width = 0.30\n",
        "\n",
        "fig, ax = plt.subplots()\n",
        "bars1 = ax.bar(x - width/2, losses_1, width, label='Prediction 1')\n",
        "bars2 = ax.bar(x + width/2, losses_2, width, label='Prediction 2')\n",
        "\n",
        "ax.set_ylabel('Loss Value')\n",
        "ax.set_title('MSE vs Cross-Entropy for Different Predictions')\n",
        "ax.set_xticks(x)\n",
        "ax.set_xticklabels(labels)\n",
        "ax.legend()\n",
        "\n",
        "for bars in [bars1, bars2]:\n",
        "    for bar in bars:\n",
        "        height = bar.get_height()\n",
        "        ax.annotate(f'{height:.3f}',\n",
        "                    xy=(bar.get_x() + bar.get_width() / 2, height),\n",
        "                    xytext=(0, 3),\n",
        "                    textcoords=\"offset points\",\n",
        "                    ha='center', va='bottom')\n",
        "\n",
        "plt.show()"
      ]
    },
    {
      "cell_type": "code",
      "source": [
        "import tensorflow as tf\n",
        "import datetime\n",
        "import os\n",
        "\n",
        "# Load the MNIST dataset\n",
        "mnist = tf.keras.datasets.mnist\n",
        "(x_train, y_train), (x_test, y_test) = mnist.load_data()\n",
        "\n",
        "# Normalizing pixel values\n",
        "x_train = x_train / 255.0\n",
        "x_test = x_test / 255.0\n",
        "\n",
        "# Building neural network\n",
        "model = tf.keras.models.Sequential([\n",
        "    tf.keras.layers.Flatten(input_shape=(28, 28)),\n",
        "    tf.keras.layers.Dense(128, activation='relu'),\n",
        "    tf.keras.layers.Dense(10, activation='softmax')\n",
        "])\n",
        "\n",
        "model.compile(optimizer='adam',\n",
        "              loss='sparse_categorical_crossentropy',\n",
        "              metrics=['accuracy'])\n",
        "\n",
        "# Setting up TensorBoard\n",
        "log_dir = \"logs/fit/\" + datetime.datetime.now().strftime(\"%Y%m%d-%H%M%S\")\n",
        "tensorboard_callback = tf.keras.callbacks.TensorBoard(log_dir=log_dir, histogram_freq=1)\n",
        "\n",
        "# Training TensorBoard logging\n",
        "model.fit(x_train, y_train,\n",
        "          epochs=5,\n",
        "          validation_data=(x_test, y_test),\n",
        "          callbacks=[tensorboard_callback])\n",
        "\n",
        "# As per the observed patterns for the 5 epochs, I get a result of a generalized model\n",
        "# where the Traing and Test Data accuracy increased and the loos values for both the\n",
        "# training and testing data decreased\n",
        "\n",
        "# The tensor board is used to identify if a model is overfit, underfit or a generalized model\n",
        "# for a overfit case - we could identify that the training is too good and the test accuracy\n",
        "# show bad results"
      ],
      "metadata": {
        "colab": {
          "base_uri": "https://localhost:8080/"
        },
        "id": "u_ypfx4avx0m",
        "outputId": "5fc72d3d-d3cc-4a79-d083-04bb2daaf9b0"
      },
      "execution_count": null,
      "outputs": [
        {
          "output_type": "stream",
          "name": "stdout",
          "text": [
            "Downloading data from https://storage.googleapis.com/tensorflow/tf-keras-datasets/mnist.npz\n",
            "\u001b[1m11490434/11490434\u001b[0m \u001b[32m━━━━━━━━━━━━━━━━━━━━\u001b[0m\u001b[37m\u001b[0m \u001b[1m0s\u001b[0m 0us/step\n"
          ]
        },
        {
          "output_type": "stream",
          "name": "stderr",
          "text": [
            "/usr/local/lib/python3.11/dist-packages/keras/src/layers/reshaping/flatten.py:37: UserWarning: Do not pass an `input_shape`/`input_dim` argument to a layer. When using Sequential models, prefer using an `Input(shape)` object as the first layer in the model instead.\n",
            "  super().__init__(**kwargs)\n"
          ]
        },
        {
          "output_type": "stream",
          "name": "stdout",
          "text": [
            "Epoch 1/5\n",
            "\u001b[1m1875/1875\u001b[0m \u001b[32m━━━━━━━━━━━━━━━━━━━━\u001b[0m\u001b[37m\u001b[0m \u001b[1m10s\u001b[0m 4ms/step - accuracy: 0.8748 - loss: 0.4374 - val_accuracy: 0.9570 - val_loss: 0.1445\n",
            "Epoch 2/5\n",
            "\u001b[1m1875/1875\u001b[0m \u001b[32m━━━━━━━━━━━━━━━━━━━━\u001b[0m\u001b[37m\u001b[0m \u001b[1m9s\u001b[0m 5ms/step - accuracy: 0.9634 - loss: 0.1255 - val_accuracy: 0.9679 - val_loss: 0.1073\n",
            "Epoch 3/5\n",
            "\u001b[1m1875/1875\u001b[0m \u001b[32m━━━━━━━━━━━━━━━━━━━━\u001b[0m\u001b[37m\u001b[0m \u001b[1m9s\u001b[0m 5ms/step - accuracy: 0.9772 - loss: 0.0787 - val_accuracy: 0.9732 - val_loss: 0.0884\n",
            "Epoch 4/5\n",
            "\u001b[1m1875/1875\u001b[0m \u001b[32m━━━━━━━━━━━━━━━━━━━━\u001b[0m\u001b[37m\u001b[0m \u001b[1m10s\u001b[0m 5ms/step - accuracy: 0.9817 - loss: 0.0589 - val_accuracy: 0.9765 - val_loss: 0.0761\n",
            "Epoch 5/5\n",
            "\u001b[1m1875/1875\u001b[0m \u001b[32m━━━━━━━━━━━━━━━━━━━━\u001b[0m\u001b[37m\u001b[0m \u001b[1m8s\u001b[0m 4ms/step - accuracy: 0.9860 - loss: 0.0460 - val_accuracy: 0.9770 - val_loss: 0.0764\n"
          ]
        },
        {
          "output_type": "execute_result",
          "data": {
            "text/plain": [
              "<keras.src.callbacks.history.History at 0x7a8425dfaf50>"
            ]
          },
          "metadata": {},
          "execution_count": 1
        }
      ]
    },
    {
      "cell_type": "code",
      "source": [
        "# Testing by increasing the epochs\n",
        "model.fit(x_train, y_train,\n",
        "          epochs=15,\n",
        "          validation_data=(x_test, y_test),\n",
        "          callbacks=[tensorboard_callback])\n",
        "\n",
        "# When the epochs are increased I could observed that the training model is\n",
        "# learning the data i.e after a certain point the training accuracy get stabilized\n",
        "# and the loss number also gives very minimual number, but the testing accuracy\n",
        "# performace degrades"
      ],
      "metadata": {
        "id": "1RHpLHxplmt1",
        "colab": {
          "base_uri": "https://localhost:8080/"
        },
        "outputId": "c16f538b-bd49-4c3a-e5a2-8f9bbe917868"
      },
      "execution_count": null,
      "outputs": [
        {
          "output_type": "stream",
          "name": "stdout",
          "text": [
            "Epoch 1/15\n",
            "\u001b[1m1875/1875\u001b[0m \u001b[32m━━━━━━━━━━━━━━━━━━━━\u001b[0m\u001b[37m\u001b[0m \u001b[1m8s\u001b[0m 4ms/step - accuracy: 0.9986 - loss: 0.0044 - val_accuracy: 0.9779 - val_loss: 0.1064\n",
            "Epoch 2/15\n",
            "\u001b[1m1875/1875\u001b[0m \u001b[32m━━━━━━━━━━━━━━━━━━━━\u001b[0m\u001b[37m\u001b[0m \u001b[1m12s\u001b[0m 5ms/step - accuracy: 0.9990 - loss: 0.0031 - val_accuracy: 0.9784 - val_loss: 0.1117\n",
            "Epoch 3/15\n",
            "\u001b[1m1875/1875\u001b[0m \u001b[32m━━━━━━━━━━━━━━━━━━━━\u001b[0m\u001b[37m\u001b[0m \u001b[1m11s\u001b[0m 6ms/step - accuracy: 0.9979 - loss: 0.0066 - val_accuracy: 0.9800 - val_loss: 0.1045\n",
            "Epoch 4/15\n",
            "\u001b[1m1875/1875\u001b[0m \u001b[32m━━━━━━━━━━━━━━━━━━━━\u001b[0m\u001b[37m\u001b[0m \u001b[1m20s\u001b[0m 5ms/step - accuracy: 0.9993 - loss: 0.0027 - val_accuracy: 0.9785 - val_loss: 0.1224\n",
            "Epoch 5/15\n",
            "\u001b[1m1875/1875\u001b[0m \u001b[32m━━━━━━━━━━━━━━━━━━━━\u001b[0m\u001b[37m\u001b[0m \u001b[1m18s\u001b[0m 4ms/step - accuracy: 0.9992 - loss: 0.0027 - val_accuracy: 0.9777 - val_loss: 0.1183\n",
            "Epoch 6/15\n",
            "\u001b[1m1875/1875\u001b[0m \u001b[32m━━━━━━━━━━━━━━━━━━━━\u001b[0m\u001b[37m\u001b[0m \u001b[1m9s\u001b[0m 5ms/step - accuracy: 0.9983 - loss: 0.0050 - val_accuracy: 0.9785 - val_loss: 0.1174\n",
            "Epoch 7/15\n",
            "\u001b[1m1875/1875\u001b[0m \u001b[32m━━━━━━━━━━━━━━━━━━━━\u001b[0m\u001b[37m\u001b[0m \u001b[1m10s\u001b[0m 5ms/step - accuracy: 0.9996 - loss: 0.0017 - val_accuracy: 0.9784 - val_loss: 0.1092\n",
            "Epoch 8/15\n",
            "\u001b[1m1875/1875\u001b[0m \u001b[32m━━━━━━━━━━━━━━━━━━━━\u001b[0m\u001b[37m\u001b[0m \u001b[1m10s\u001b[0m 5ms/step - accuracy: 0.9992 - loss: 0.0026 - val_accuracy: 0.9788 - val_loss: 0.1268\n",
            "Epoch 9/15\n",
            "\u001b[1m1875/1875\u001b[0m \u001b[32m━━━━━━━━━━━━━━━━━━━━\u001b[0m\u001b[37m\u001b[0m \u001b[1m9s\u001b[0m 4ms/step - accuracy: 0.9990 - loss: 0.0026 - val_accuracy: 0.9775 - val_loss: 0.1298\n",
            "Epoch 10/15\n",
            "\u001b[1m1875/1875\u001b[0m \u001b[32m━━━━━━━━━━━━━━━━━━━━\u001b[0m\u001b[37m\u001b[0m \u001b[1m9s\u001b[0m 5ms/step - accuracy: 0.9990 - loss: 0.0034 - val_accuracy: 0.9792 - val_loss: 0.1252\n",
            "Epoch 11/15\n",
            "\u001b[1m1875/1875\u001b[0m \u001b[32m━━━━━━━━━━━━━━━━━━━━\u001b[0m\u001b[37m\u001b[0m \u001b[1m10s\u001b[0m 5ms/step - accuracy: 0.9997 - loss: 0.0011 - val_accuracy: 0.9787 - val_loss: 0.1287\n",
            "Epoch 12/15\n",
            "\u001b[1m1875/1875\u001b[0m \u001b[32m━━━━━━━━━━━━━━━━━━━━\u001b[0m\u001b[37m\u001b[0m \u001b[1m8s\u001b[0m 4ms/step - accuracy: 0.9984 - loss: 0.0045 - val_accuracy: 0.9800 - val_loss: 0.1311\n",
            "Epoch 13/15\n",
            "\u001b[1m1875/1875\u001b[0m \u001b[32m━━━━━━━━━━━━━━━━━━━━\u001b[0m\u001b[37m\u001b[0m \u001b[1m10s\u001b[0m 4ms/step - accuracy: 0.9986 - loss: 0.0044 - val_accuracy: 0.9819 - val_loss: 0.1117\n",
            "Epoch 14/15\n",
            "\u001b[1m1875/1875\u001b[0m \u001b[32m━━━━━━━━━━━━━━━━━━━━\u001b[0m\u001b[37m\u001b[0m \u001b[1m9s\u001b[0m 5ms/step - accuracy: 0.9992 - loss: 0.0026 - val_accuracy: 0.9784 - val_loss: 0.1293\n",
            "Epoch 15/15\n",
            "\u001b[1m1875/1875\u001b[0m \u001b[32m━━━━━━━━━━━━━━━━━━━━\u001b[0m\u001b[37m\u001b[0m \u001b[1m9s\u001b[0m 5ms/step - accuracy: 0.9991 - loss: 0.0035 - val_accuracy: 0.9803 - val_loss: 0.1212\n"
          ]
        },
        {
          "output_type": "execute_result",
          "data": {
            "text/plain": [
              "<keras.src.callbacks.history.History at 0x7a84270eaf50>"
            ]
          },
          "metadata": {},
          "execution_count": 3
        }
      ]
    },
    {
      "cell_type": "code",
      "source": [],
      "metadata": {
        "id": "0aCYTUzG4QOe"
      },
      "execution_count": null,
      "outputs": []
    }
  ]
}